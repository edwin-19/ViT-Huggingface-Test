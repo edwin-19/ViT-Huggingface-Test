{
 "cells": [
  {
   "cell_type": "code",
   "execution_count": 1,
   "id": "brutal-arbitration",
   "metadata": {},
   "outputs": [],
   "source": [
    "import torch\n",
    "import torch.nn as nn\n",
    "import torch.nn.functional as F\n",
    "import timm"
   ]
  },
  {
   "cell_type": "code",
   "execution_count": 24,
   "id": "appreciated-eagle",
   "metadata": {},
   "outputs": [],
   "source": [
    "import glob\n",
    "from torchvision import transforms as T\n",
    "from PIL import Image\n",
    "import os\n",
    "from tqdm.notebook import tqdm"
   ]
  },
  {
   "cell_type": "markdown",
   "id": "curious-product",
   "metadata": {},
   "source": [
    "# Create model & load weights\n",
    "- Create pytorch module from code\n",
    "- Load weights to model"
   ]
  },
  {
   "cell_type": "code",
   "execution_count": 2,
   "id": "narrative-usage",
   "metadata": {},
   "outputs": [],
   "source": [
    "class HandSignClassify(nn.Module):\n",
    "    def __init__(self, num_classes=29, architecture='tf_efficientnetv2_b2'):\n",
    "        super(HandSignClassify, self).__init__()\n",
    "        self.base_model = timm.create_model(architecture, pretrained=True)\n",
    "        self.base_model.classifier = nn.Sequential(\n",
    "            nn.Linear(1408, 625),\n",
    "            nn.ReLU(),\n",
    "            nn.Dropout(0.25),\n",
    "            nn.Linear(625, 256),\n",
    "            nn.ReLU(),\n",
    "            nn.Linear(256, num_classes)\n",
    "        )\n",
    "    \n",
    "    def forward(self, x):\n",
    "        return self.base_model(x)"
   ]
  },
  {
   "cell_type": "code",
   "execution_count": 4,
   "id": "ordered-communication",
   "metadata": {},
   "outputs": [],
   "source": [
    "model = HandSignClassify()\n",
    "model.load_state_dict(torch.load('weights/effnet_v2_b2.pth'))\n",
    "\n",
    "model.to('cuda');"
   ]
  },
  {
   "cell_type": "markdown",
   "id": "surgical-williams",
   "metadata": {},
   "source": [
    "# Inference code"
   ]
  },
  {
   "cell_type": "code",
   "execution_count": 19,
   "id": "french-sunrise",
   "metadata": {},
   "outputs": [],
   "source": [
    "labels = sorted([os.path.basename(folder_path) for folder_path in glob.glob('data/asl_alphabet_train/asl_alphabet_train/*')])\n",
    "index_label = dict([(index, label) for index, label in enumerate(labels)])"
   ]
  },
  {
   "cell_type": "code",
   "execution_count": 11,
   "id": "broad-criticism",
   "metadata": {},
   "outputs": [],
   "source": [
    "test_transform = T.Compose([\n",
    "    T.Resize(size=(224, 224)),\n",
    "    T.ToTensor(),\n",
    "    T.Normalize([0.485,0.456,0.406],[0.229,0.224,0.225])\n",
    "])"
   ]
  },
  {
   "cell_type": "code",
   "execution_count": 7,
   "id": "historical-duncan",
   "metadata": {},
   "outputs": [],
   "source": [
    "images_path = glob.glob('data/asl_alphabet_test/asl_alphabet_test/*.jpg')"
   ]
  },
  {
   "cell_type": "code",
   "execution_count": 33,
   "id": "satisfactory-zimbabwe",
   "metadata": {},
   "outputs": [
    {
     "name": "stdout",
     "output_type": "stream",
     "text": [
      "pred, label\n"
     ]
    },
    {
     "data": {
      "application/vnd.jupyter.widget-view+json": {
       "model_id": "6604b2517bae4367bbc380cb54d152c2",
       "version_major": 2,
       "version_minor": 0
      },
      "text/plain": [
       "HBox(children=(FloatProgress(value=0.0, max=28.0), HTML(value='')))"
      ]
     },
     "metadata": {},
     "output_type": "display_data"
    },
    {
     "name": "stdout",
     "output_type": "stream",
     "text": [
      "Z Z\n",
      "Q J\n",
      "T T\n",
      "A B\n",
      "Q Q\n",
      "A A\n",
      "D D\n",
      "Q C\n",
      "I I\n",
      "Y W\n",
      "space H\n",
      "G G\n",
      "space space\n",
      "T S\n",
      "M M\n",
      "K K\n",
      "Y Y\n",
      "R R\n",
      "Q N\n",
      "L V\n",
      "L L\n",
      "F F\n",
      "M E\n",
      "Q nothing\n",
      "U U\n",
      "Q P\n",
      "O O\n",
      "X X\n",
      "\n"
     ]
    }
   ],
   "source": [
    "for image_path in tqdm(images_path):\n",
    "    input_tensor = test_transform(Image.open(image_path))\n",
    "    logits = model(input_tensor.to('cuda').unsqueeze(0))\n",
    "\n",
    "    preds = index_label[logits.argmax().detach().cpu().item()]\n",
    "    \n",
    "    print(preds, os.path.basename(image_path).split('_')[0])"
   ]
  }
 ],
 "metadata": {
  "kernelspec": {
   "display_name": "Python 3",
   "language": "python",
   "name": "python3"
  },
  "language_info": {
   "codemirror_mode": {
    "name": "ipython",
    "version": 3
   },
   "file_extension": ".py",
   "mimetype": "text/x-python",
   "name": "python",
   "nbconvert_exporter": "python",
   "pygments_lexer": "ipython3",
   "version": "3.8.8"
  }
 },
 "nbformat": 4,
 "nbformat_minor": 5
}
