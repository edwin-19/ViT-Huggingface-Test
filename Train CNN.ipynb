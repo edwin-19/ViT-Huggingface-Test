{
 "cells": [
  {
   "cell_type": "code",
   "execution_count": 1,
   "id": "accompanied-bandwidth",
   "metadata": {},
   "outputs": [],
   "source": [
    "import torch\n",
    "import torch.nn as nn\n",
    "import torch.nn.functional as F"
   ]
  },
  {
   "cell_type": "code",
   "execution_count": 2,
   "id": "objective-taste",
   "metadata": {},
   "outputs": [],
   "source": [
    "from torch.utils.data import DataLoader, Dataset, SequentialSampler, RandomSampler\n",
    "from torchmetrics.functional import accuracy"
   ]
  },
  {
   "cell_type": "code",
   "execution_count": 3,
   "id": "solved-accused",
   "metadata": {},
   "outputs": [],
   "source": [
    "from PIL import Image\n",
    "import os\n",
    "import glob\n",
    "import numpy as np\n",
    "from matplotlib import pyplot as plt\n",
    "import seaborn as sns\n",
    "from tqdm.notebook import tqdm\n",
    "\n",
    "from sklearn.metrics import classification_report, confusion_matrix, matthews_corrcoef, roc_curve, auc\n",
    "from sklearn.model_selection import train_test_split"
   ]
  },
  {
   "cell_type": "code",
   "execution_count": 4,
   "id": "negative-shelf",
   "metadata": {},
   "outputs": [],
   "source": [
    "# Hyper params\n",
    "epochs = 10\n",
    "batch_size = 64\n",
    "learing_rate = 1e-4\n",
    "eps = 1e-8"
   ]
  },
  {
   "cell_type": "markdown",
   "id": "three-southwest",
   "metadata": {},
   "source": [
    "# Build Simple CNN"
   ]
  },
  {
   "cell_type": "code",
   "execution_count": 5,
   "id": "roman-cover",
   "metadata": {},
   "outputs": [],
   "source": [
    "class SimpleCNN(nn.Module):\n",
    "    def __init__(self):\n",
    "        super(SimpleCNN, self).__init__()\n",
    "        self.feature_extractor = nn.Sequential(\n",
    "            nn.Conv2d(3, 32, 3),\n",
    "            nn.ReLU(),\n",
    "            nn.MaxPool2d(2),\n",
    "            nn.Conv2d(32, 64, 3),\n",
    "            nn.ReLU(),\n",
    "            nn.MaxPool2d(2),\n",
    "            nn.Conv2d(64, 128, 3),\n",
    "            nn.ReLU(),\n",
    "            nn.MaxPool2d(2),\n",
    "        )\n",
    "\n",
    "        self.classifier = nn.Sequential(\n",
    "            nn.AdaptiveAvgPool2d(1),\n",
    "            nn.Flatten(),\n",
    "            nn.Linear(128 * 1 * 1, 256),\n",
    "            nn.Dropout(0.25),\n",
    "            nn.ReLU(),\n",
    "            nn.Linear(256, 29)\n",
    "        )\n",
    "    \n",
    "    def forward(self, x):\n",
    "        features = self.feature_extractor(x)\n",
    "        return self.classifier(features)"
   ]
  },
  {
   "cell_type": "code",
   "execution_count": 6,
   "id": "floating-tooth",
   "metadata": {},
   "outputs": [
    {
     "data": {
      "text/plain": [
       "SimpleCNN(\n",
       "  (feature_extractor): Sequential(\n",
       "    (0): Conv2d(3, 32, kernel_size=(3, 3), stride=(1, 1))\n",
       "    (1): ReLU()\n",
       "    (2): MaxPool2d(kernel_size=2, stride=2, padding=0, dilation=1, ceil_mode=False)\n",
       "    (3): Conv2d(32, 64, kernel_size=(3, 3), stride=(1, 1))\n",
       "    (4): ReLU()\n",
       "    (5): MaxPool2d(kernel_size=2, stride=2, padding=0, dilation=1, ceil_mode=False)\n",
       "    (6): Conv2d(64, 128, kernel_size=(3, 3), stride=(1, 1))\n",
       "    (7): ReLU()\n",
       "    (8): MaxPool2d(kernel_size=2, stride=2, padding=0, dilation=1, ceil_mode=False)\n",
       "  )\n",
       "  (classifier): Sequential(\n",
       "    (0): AdaptiveAvgPool2d(output_size=1)\n",
       "    (1): Flatten(start_dim=1, end_dim=-1)\n",
       "    (2): Linear(in_features=128, out_features=256, bias=True)\n",
       "    (3): Dropout(p=0.25, inplace=False)\n",
       "    (4): ReLU()\n",
       "    (5): Linear(in_features=256, out_features=29, bias=True)\n",
       "  )\n",
       ")"
      ]
     },
     "execution_count": 6,
     "metadata": {},
     "output_type": "execute_result"
    }
   ],
   "source": [
    "model = SimpleCNN()\n",
    "model.to('cuda')"
   ]
  },
  {
   "cell_type": "markdown",
   "id": "essential-fourth",
   "metadata": {},
   "source": [
    "# Lets load data"
   ]
  },
  {
   "cell_type": "code",
   "execution_count": 7,
   "id": "dense-attraction",
   "metadata": {},
   "outputs": [],
   "source": [
    "labels = sorted([os.path.basename(folder_path) for folder_path in glob.glob('data/asl_alphabet_train/asl_alphabet_train/*')])\n",
    "labels_index = dict([(label, index) for index, label in enumerate(labels)])\n",
    "index_labels = dict([(index, label) for index, label in enumerate(labels)])"
   ]
  },
  {
   "cell_type": "code",
   "execution_count": 8,
   "id": "entertaining-table",
   "metadata": {},
   "outputs": [],
   "source": [
    "image_files = glob.glob('data/asl_alphabet_train/asl_alphabet_train/**/*.jpg', recursive=True)"
   ]
  },
  {
   "cell_type": "code",
   "execution_count": 9,
   "id": "joint-tract",
   "metadata": {},
   "outputs": [],
   "source": [
    "# Split dataset\n",
    "train_images, test_images = train_test_split(image_files, test_size=0.2, random_state=2021)"
   ]
  },
  {
   "cell_type": "markdown",
   "id": "empty-terrorism",
   "metadata": {},
   "source": [
    "# Prepare data"
   ]
  },
  {
   "cell_type": "code",
   "execution_count": 10,
   "id": "twenty-airline",
   "metadata": {},
   "outputs": [],
   "source": [
    "class HandSignDataset(Dataset):\n",
    "    def __init__(self, image_list, labels_index):\n",
    "        super(HandSignDataset, self).__init__()\n",
    "        self.image_list = image_list\n",
    "        self.labels_index = labels_index\n",
    "        \n",
    "    def __len__(self):\n",
    "        return len(self.image_list)\n",
    "    \n",
    "    def __getitem__(self, index):\n",
    "        image_path = self.image_list[index]\n",
    "    \n",
    "        base_path = os.path.basename(os.path.dirname(image_path))\n",
    "        label = self.labels_index[base_path]\n",
    "        \n",
    "        img = Image.open(image_path)\n",
    "        img = img.resize((224, 224))\n",
    "        img = np.array(img).transpose(2, 1 ,0)\n",
    "        \n",
    "        img = img / 255.\n",
    "        img = torch.tensor(img, dtype=torch.float32)\n",
    "        \n",
    "        return img, label"
   ]
  },
  {
   "cell_type": "code",
   "execution_count": 11,
   "id": "stunning-southeast",
   "metadata": {},
   "outputs": [],
   "source": [
    "train_dataset = HandSignDataset(train_images, labels_index)\n",
    "test_dataset = HandSignDataset(test_images, labels_index)"
   ]
  },
  {
   "cell_type": "code",
   "execution_count": 12,
   "id": "combined-coalition",
   "metadata": {},
   "outputs": [],
   "source": [
    "# Load into dataloader\n",
    "train_sampler = RandomSampler(train_dataset)\n",
    "train_dataloader = DataLoader(train_dataset, sampler=train_sampler, batch_size=batch_size, num_workers=6)\n",
    "\n",
    "test_sampler = SequentialSampler(test_dataset)\n",
    "test_dataloader = DataLoader(test_dataset, sampler=test_sampler, batch_size=batch_size, num_workers=6)"
   ]
  },
  {
   "cell_type": "markdown",
   "id": "narrative-morocco",
   "metadata": {},
   "source": [
    "# Train model"
   ]
  },
  {
   "cell_type": "code",
   "execution_count": 13,
   "id": "bronze-parent",
   "metadata": {},
   "outputs": [],
   "source": [
    "# Load optim and loss function\n",
    "criterion = nn.CrossEntropyLoss()\n",
    "optim = torch.optim.Adam(model.parameters(), lr=learing_rate, eps=eps)"
   ]
  },
  {
   "cell_type": "code",
   "execution_count": 14,
   "id": "brown-binding",
   "metadata": {},
   "outputs": [
    {
     "data": {
      "application/vnd.jupyter.widget-view+json": {
       "model_id": "8380ae0c08ae4cea9bb081de62fab2e9",
       "version_major": 2,
       "version_minor": 0
      },
      "text/plain": [
       "HBox(children=(FloatProgress(value=0.0, max=10.0), HTML(value='')))"
      ]
     },
     "metadata": {},
     "output_type": "display_data"
    },
    {
     "data": {
      "application/vnd.jupyter.widget-view+json": {
       "model_id": "85b1adbda6d34b08adf7127ca06e82d2",
       "version_major": 2,
       "version_minor": 0
      },
      "text/plain": [
       "HBox(children=(FloatProgress(value=0.0, max=1088.0), HTML(value='')))"
      ]
     },
     "metadata": {},
     "output_type": "display_data"
    },
    {
     "name": "stdout",
     "output_type": "stream",
     "text": [
      "\n",
      "[Epoch 1] Training loss: 3.287\n"
     ]
    },
    {
     "data": {
      "application/vnd.jupyter.widget-view+json": {
       "model_id": "fa99ff1fee1e41aa8b7d9ea0eb46680e",
       "version_major": 2,
       "version_minor": 0
      },
      "text/plain": [
       "HBox(children=(FloatProgress(value=0.0, max=272.0), HTML(value='')))"
      ]
     },
     "metadata": {},
     "output_type": "display_data"
    },
    {
     "name": "stdout",
     "output_type": "stream",
     "text": [
      "\n",
      "[Epoch 1] Test loss: 3.151\n",
      "Accuracy: 8\n"
     ]
    },
    {
     "data": {
      "application/vnd.jupyter.widget-view+json": {
       "model_id": "112c265075d34339be58754f3b0a0c58",
       "version_major": 2,
       "version_minor": 0
      },
      "text/plain": [
       "HBox(children=(FloatProgress(value=0.0, max=1088.0), HTML(value='')))"
      ]
     },
     "metadata": {},
     "output_type": "display_data"
    },
    {
     "name": "stdout",
     "output_type": "stream",
     "text": [
      "\n",
      "[Epoch 2] Training loss: 3.080\n"
     ]
    },
    {
     "data": {
      "application/vnd.jupyter.widget-view+json": {
       "model_id": "44c53b331d764e529ccdd9e2b86aee5c",
       "version_major": 2,
       "version_minor": 0
      },
      "text/plain": [
       "HBox(children=(FloatProgress(value=0.0, max=272.0), HTML(value='')))"
      ]
     },
     "metadata": {},
     "output_type": "display_data"
    },
    {
     "name": "stdout",
     "output_type": "stream",
     "text": [
      "\n",
      "[Epoch 2] Test loss: 3.005\n",
      "Accuracy: 12\n"
     ]
    },
    {
     "data": {
      "application/vnd.jupyter.widget-view+json": {
       "model_id": "5f756d4d5a944f9a853db38fa776a662",
       "version_major": 2,
       "version_minor": 0
      },
      "text/plain": [
       "HBox(children=(FloatProgress(value=0.0, max=1088.0), HTML(value='')))"
      ]
     },
     "metadata": {},
     "output_type": "display_data"
    },
    {
     "name": "stdout",
     "output_type": "stream",
     "text": [
      "\n",
      "[Epoch 3] Training loss: 2.958\n"
     ]
    },
    {
     "data": {
      "application/vnd.jupyter.widget-view+json": {
       "model_id": "551a84fdd2124c508a7b201a9a2085c8",
       "version_major": 2,
       "version_minor": 0
      },
      "text/plain": [
       "HBox(children=(FloatProgress(value=0.0, max=272.0), HTML(value='')))"
      ]
     },
     "metadata": {},
     "output_type": "display_data"
    },
    {
     "name": "stdout",
     "output_type": "stream",
     "text": [
      "\n",
      "[Epoch 3] Test loss: 2.873\n",
      "Accuracy: 13\n"
     ]
    },
    {
     "data": {
      "application/vnd.jupyter.widget-view+json": {
       "model_id": "20539fbb99434ec897c104a54f6847a9",
       "version_major": 2,
       "version_minor": 0
      },
      "text/plain": [
       "HBox(children=(FloatProgress(value=0.0, max=1088.0), HTML(value='')))"
      ]
     },
     "metadata": {},
     "output_type": "display_data"
    },
    {
     "name": "stdout",
     "output_type": "stream",
     "text": [
      "\n",
      "[Epoch 4] Training loss: 2.875\n"
     ]
    },
    {
     "data": {
      "application/vnd.jupyter.widget-view+json": {
       "model_id": "dd934fc033864681a035df0293ac0c88",
       "version_major": 2,
       "version_minor": 0
      },
      "text/plain": [
       "HBox(children=(FloatProgress(value=0.0, max=272.0), HTML(value='')))"
      ]
     },
     "metadata": {},
     "output_type": "display_data"
    },
    {
     "name": "stdout",
     "output_type": "stream",
     "text": [
      "\n",
      "[Epoch 4] Test loss: 2.807\n",
      "Accuracy: 14\n"
     ]
    },
    {
     "data": {
      "application/vnd.jupyter.widget-view+json": {
       "model_id": "0bd414aff58e426b93f848b4c4a3048d",
       "version_major": 2,
       "version_minor": 0
      },
      "text/plain": [
       "HBox(children=(FloatProgress(value=0.0, max=1088.0), HTML(value='')))"
      ]
     },
     "metadata": {},
     "output_type": "display_data"
    },
    {
     "name": "stdout",
     "output_type": "stream",
     "text": [
      "\n",
      "[Epoch 5] Training loss: 2.810\n"
     ]
    },
    {
     "data": {
      "application/vnd.jupyter.widget-view+json": {
       "model_id": "0155b7d0b42a418c91e87648c6c2b5aa",
       "version_major": 2,
       "version_minor": 0
      },
      "text/plain": [
       "HBox(children=(FloatProgress(value=0.0, max=272.0), HTML(value='')))"
      ]
     },
     "metadata": {},
     "output_type": "display_data"
    },
    {
     "name": "stdout",
     "output_type": "stream",
     "text": [
      "\n",
      "[Epoch 5] Test loss: 2.739\n",
      "Accuracy: 16\n"
     ]
    },
    {
     "data": {
      "application/vnd.jupyter.widget-view+json": {
       "model_id": "2b266d36587f47ce93235e81e63a279f",
       "version_major": 2,
       "version_minor": 0
      },
      "text/plain": [
       "HBox(children=(FloatProgress(value=0.0, max=1088.0), HTML(value='')))"
      ]
     },
     "metadata": {},
     "output_type": "display_data"
    },
    {
     "name": "stdout",
     "output_type": "stream",
     "text": [
      "\n",
      "[Epoch 6] Training loss: 2.738\n"
     ]
    },
    {
     "data": {
      "application/vnd.jupyter.widget-view+json": {
       "model_id": "931788d68c3e45d4a46f636ceb791633",
       "version_major": 2,
       "version_minor": 0
      },
      "text/plain": [
       "HBox(children=(FloatProgress(value=0.0, max=272.0), HTML(value='')))"
      ]
     },
     "metadata": {},
     "output_type": "display_data"
    },
    {
     "name": "stdout",
     "output_type": "stream",
     "text": [
      "\n",
      "[Epoch 6] Test loss: 2.665\n",
      "Accuracy: 17\n"
     ]
    },
    {
     "data": {
      "application/vnd.jupyter.widget-view+json": {
       "model_id": "d37b0f8ed68148b39c2d9a18b468167e",
       "version_major": 2,
       "version_minor": 0
      },
      "text/plain": [
       "HBox(children=(FloatProgress(value=0.0, max=1088.0), HTML(value='')))"
      ]
     },
     "metadata": {},
     "output_type": "display_data"
    },
    {
     "name": "stdout",
     "output_type": "stream",
     "text": [
      "\n",
      "[Epoch 7] Training loss: 2.659\n"
     ]
    },
    {
     "data": {
      "application/vnd.jupyter.widget-view+json": {
       "model_id": "d4bc42d5535941b19ab89e30b1a4deb9",
       "version_major": 2,
       "version_minor": 0
      },
      "text/plain": [
       "HBox(children=(FloatProgress(value=0.0, max=272.0), HTML(value='')))"
      ]
     },
     "metadata": {},
     "output_type": "display_data"
    },
    {
     "name": "stdout",
     "output_type": "stream",
     "text": [
      "\n",
      "[Epoch 7] Test loss: 2.582\n",
      "Accuracy: 19\n"
     ]
    },
    {
     "data": {
      "application/vnd.jupyter.widget-view+json": {
       "model_id": "539c25c2cec24cffbe8c69007b789b63",
       "version_major": 2,
       "version_minor": 0
      },
      "text/plain": [
       "HBox(children=(FloatProgress(value=0.0, max=1088.0), HTML(value='')))"
      ]
     },
     "metadata": {},
     "output_type": "display_data"
    },
    {
     "name": "stdout",
     "output_type": "stream",
     "text": [
      "\n",
      "[Epoch 8] Training loss: 2.553\n"
     ]
    },
    {
     "data": {
      "application/vnd.jupyter.widget-view+json": {
       "model_id": "63ef38473bb14b83949a2c7b01da49f7",
       "version_major": 2,
       "version_minor": 0
      },
      "text/plain": [
       "HBox(children=(FloatProgress(value=0.0, max=272.0), HTML(value='')))"
      ]
     },
     "metadata": {},
     "output_type": "display_data"
    },
    {
     "name": "stdout",
     "output_type": "stream",
     "text": [
      "\n",
      "[Epoch 8] Test loss: 2.453\n",
      "Accuracy: 22\n"
     ]
    },
    {
     "data": {
      "application/vnd.jupyter.widget-view+json": {
       "model_id": "2acefa7a426642df881fea75d8782519",
       "version_major": 2,
       "version_minor": 0
      },
      "text/plain": [
       "HBox(children=(FloatProgress(value=0.0, max=1088.0), HTML(value='')))"
      ]
     },
     "metadata": {},
     "output_type": "display_data"
    },
    {
     "name": "stdout",
     "output_type": "stream",
     "text": [
      "\n",
      "[Epoch 9] Training loss: 2.399\n"
     ]
    },
    {
     "data": {
      "application/vnd.jupyter.widget-view+json": {
       "model_id": "b5dc108f6b5a41429a7fe2f6c37613f6",
       "version_major": 2,
       "version_minor": 0
      },
      "text/plain": [
       "HBox(children=(FloatProgress(value=0.0, max=272.0), HTML(value='')))"
      ]
     },
     "metadata": {},
     "output_type": "display_data"
    },
    {
     "name": "stdout",
     "output_type": "stream",
     "text": [
      "\n",
      "[Epoch 9] Test loss: 2.297\n",
      "Accuracy: 27\n"
     ]
    },
    {
     "data": {
      "application/vnd.jupyter.widget-view+json": {
       "model_id": "22c4d186d7ec4a98a6f09143bbb2e66b",
       "version_major": 2,
       "version_minor": 0
      },
      "text/plain": [
       "HBox(children=(FloatProgress(value=0.0, max=1088.0), HTML(value='')))"
      ]
     },
     "metadata": {},
     "output_type": "display_data"
    },
    {
     "name": "stdout",
     "output_type": "stream",
     "text": [
      "\n",
      "[Epoch 10] Training loss: 2.225\n"
     ]
    },
    {
     "data": {
      "application/vnd.jupyter.widget-view+json": {
       "model_id": "5056265e03014058a19d093ce83567b9",
       "version_major": 2,
       "version_minor": 0
      },
      "text/plain": [
       "HBox(children=(FloatProgress(value=0.0, max=272.0), HTML(value='')))"
      ]
     },
     "metadata": {},
     "output_type": "display_data"
    },
    {
     "name": "stdout",
     "output_type": "stream",
     "text": [
      "\n",
      "[Epoch 10] Test loss: 2.089\n",
      "Accuracy: 35\n",
      "\n"
     ]
    }
   ],
   "source": [
    "for epoch in tqdm(range(epochs)):\n",
    "    model.train()\n",
    "    training_loss = 0\n",
    "    \n",
    "    for step, (train_image, train_label) in tqdm(enumerate(train_dataloader), total=len(train_dataloader)):\n",
    "        train_batch_image = train_image.to('cuda')\n",
    "        train_batch_label = train_label.to('cuda')\n",
    "        \n",
    "        # Forward pass\n",
    "        optim.zero_grad()\n",
    "        logits = model(train_batch_image)\n",
    "        \n",
    "        # Backward pass\n",
    "        loss = criterion(logits, train_batch_label)\n",
    "        loss.backward()\n",
    "        training_loss += loss.item()\n",
    "        \n",
    "        optim.step()\n",
    "        \n",
    "    print('[Epoch %d] Training loss: %.3f' %(epoch + 1, training_loss/ len(train_dataloader)))\n",
    "    \n",
    "    model.eval()\n",
    "    preds = []\n",
    "    targets = []\n",
    "    \n",
    "    test_loss = 0\n",
    "    for step, (test_image, test_labels) in tqdm(enumerate(test_dataloader), total=len(test_dataloader)):\n",
    "        test_batch_image = test_image.to('cuda')\n",
    "        test_batch_label = test_labels.to('cuda')\n",
    "        targets.append(test_labels)\n",
    "        \n",
    "        with torch.no_grad():\n",
    "            logits = model(test_batch_image)\n",
    "        \n",
    "        loss = criterion(logits, test_batch_label)\n",
    "        test_loss += loss.item()\n",
    "        \n",
    "        preds.append(logits.detach().cpu().numpy().argmax(axis=1))\n",
    "    \n",
    "    preds = torch.tensor(np.concatenate(preds))\n",
    "    targets = torch.tensor(np.concatenate(targets))\n",
    "    print('[Epoch %d] Test loss: %.3f' %(epoch + 1, test_loss/ len(test_dataloader)))\n",
    "    print('Accuracy: {}%'.format(round(accuracy(target=targets, preds=preds).item() * 100), 2))"
   ]
  },
  {
   "cell_type": "markdown",
   "id": "effective-sacramento",
   "metadata": {},
   "source": [
    "# Evaluate Model"
   ]
  },
  {
   "cell_type": "code",
   "execution_count": 15,
   "id": "boring-storage",
   "metadata": {},
   "outputs": [
    {
     "data": {
      "application/vnd.jupyter.widget-view+json": {
       "model_id": "27647926135149a193b39bde4c3d800c",
       "version_major": 2,
       "version_minor": 0
      },
      "text/plain": [
       "HBox(children=(FloatProgress(value=0.0, max=272.0), HTML(value='')))"
      ]
     },
     "metadata": {},
     "output_type": "display_data"
    },
    {
     "name": "stdout",
     "output_type": "stream",
     "text": [
      "\n"
     ]
    }
   ],
   "source": [
    "model.eval()\n",
    "\n",
    "preds = []\n",
    "targets = []\n",
    "for step, (test_image, test_labels) in tqdm(enumerate(test_dataloader), total=len(test_dataloader)):\n",
    "    targets.append(test_labels)\n",
    "    with torch.no_grad():\n",
    "        test_batch_image = test_image.to('cuda')\n",
    "        logits = model(test_batch_image)\n",
    "        \n",
    "        preds.append(logits.detach().cpu().numpy().argmax(axis=1))\n",
    "    \n",
    "preds = np.concatenate(preds)\n",
    "targets = np.concatenate(targets)"
   ]
  },
  {
   "cell_type": "code",
   "execution_count": 16,
   "id": "duplicate-falls",
   "metadata": {},
   "outputs": [
    {
     "name": "stdout",
     "output_type": "stream",
     "text": [
      "              precision    recall  f1-score   support\n",
      "\n",
      "           A       0.27      0.51      0.35       631\n",
      "           B       0.50      0.27      0.35       582\n",
      "           C       0.45      0.46      0.46       574\n",
      "           D       0.56      0.29      0.39       603\n",
      "           E       0.15      0.16      0.16       631\n",
      "           F       0.44      0.55      0.49       597\n",
      "           G       0.49      0.45      0.47       624\n",
      "           H       0.43      0.77      0.55       560\n",
      "           I       0.34      0.34      0.34       605\n",
      "           J       0.43      0.49      0.46       554\n",
      "           K       0.39      0.26      0.31       584\n",
      "           L       0.50      0.41      0.45       598\n",
      "           M       0.27      0.26      0.27       615\n",
      "           N       0.28      0.32      0.30       586\n",
      "           O       0.31      0.37      0.34       590\n",
      "           P       0.64      0.64      0.64       597\n",
      "           Q       0.38      0.48      0.42       610\n",
      "           R       0.22      0.07      0.10       604\n",
      "           S       0.20      0.30      0.24       596\n",
      "           T       0.22      0.15      0.17       579\n",
      "           U       0.27      0.12      0.17       600\n",
      "           V       0.50      0.10      0.17       637\n",
      "           W       0.66      0.17      0.27       624\n",
      "           X       0.18      0.24      0.21       628\n",
      "           Y       0.18      0.10      0.13       575\n",
      "           Z       0.12      0.10      0.10       625\n",
      "         del       0.29      0.47      0.36       609\n",
      "     nothing       0.91      0.91      0.91       583\n",
      "       space       0.27      0.54      0.36       599\n",
      "\n",
      "    accuracy                           0.35     17400\n",
      "   macro avg       0.37      0.36      0.34     17400\n",
      "weighted avg       0.37      0.35      0.34     17400\n",
      "\n"
     ]
    }
   ],
   "source": [
    "print(classification_report(targets, preds, target_names=labels))"
   ]
  },
  {
   "cell_type": "code",
   "execution_count": 17,
   "id": "aerial-efficiency",
   "metadata": {},
   "outputs": [
    {
     "data": {
      "image/png": "[encoded data removed]",
      "text/plain": [
       "<Figure size 1080x720 with 2 Axes>"
      ]
     },
     "metadata": {
      "needs_background": "light"
     },
     "output_type": "display_data"
    }
   ],
   "source": [
    "plt.figure(figsize=(15, 10))\n",
    "plt.title('Conf Mat')\n",
    "sns.heatmap(\n",
    "    confusion_matrix(targets, preds), fmt='d', annot=True,\n",
    "    xticklabels=labels, yticklabels=labels\n",
    ");"
   ]
  },
  {
   "cell_type": "code",
   "execution_count": 18,
   "id": "brief-pearl",
   "metadata": {},
   "outputs": [
    {
     "name": "stdout",
     "output_type": "stream",
     "text": [
      "MCC: 33.14\n"
     ]
    }
   ],
   "source": [
    "print('MCC: {}'.format(round(matthews_corrcoef(targets, preds) * 100, 2)))"
   ]
  }
 ],
 "metadata": {
  "kernelspec": {
   "display_name": "Python 3",
   "language": "python",
   "name": "python3"
  },
  "language_info": {
   "codemirror_mode": {
    "name": "ipython",
    "version": 3
   },
   "file_extension": ".py",
   "mimetype": "text/x-python",
   "name": "python",
   "nbconvert_exporter": "python",
   "pygments_lexer": "ipython3",
   "version": "3.8.8"
  }
 },
 "nbformat": 4,
 "nbformat_minor": 5
}
